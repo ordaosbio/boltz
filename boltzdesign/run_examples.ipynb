{
 "cells": [
  {
   "cell_type": "markdown",
   "metadata": {},
   "source": [
    "## 🖥️ Command-line Based Running Code\n",
    "\n",
    "Currently, boltzdesign allows you to:\n",
    "- Input PDB files or custom sequences/molecules \n",
    "- Design binders for various targets:\n",
    "  • 🧬 Proteins\n",
    "  • 🧬 DNA/RNA \n",
    "  • 🔬 Small molecules\n",
    "  • ⚛️ Metals\n",
    "  • 🔗 Covalent modifications\n",
    "\n",
    "Additional features:\n",
    "- Specify constraints and modifications\n",
    "- Customize optimization function variables"
   ]
  },
  {
   "cell_type": "markdown",
   "metadata": {},
   "source": [
    "## 1. Examples of Designing Binders "
   ]
  },
  {
   "cell_type": "code",
   "execution_count": null,
   "metadata": {},
   "outputs": [],
   "source": [
    "## Example 1: protein with msa  (specify the target_name, pdb_target_ids, target_type, use_msa)\n",
    "!python boltzdesign.py \\\n",
    "  --target_name 5dxw \\\n",
    "  --target_type protein \\\n",
    "  --pdb_target_ids A \\\n",
    "  --gpu_id 0 \\\n",
    "  --use_msa True \\\n",
    "  --msa_max_seqs 4096 \\\n",
    "  --design_samples 1 \\\n",
    "  --suffix '1' \\\n",
    "  --save_trajectory True"
   ]
  },
  {
   "cell_type": "code",
   "execution_count": null,
   "metadata": {},
   "outputs": [],
   "source": [
    "## Example 2: Protein without MSA (specify the target_name, pdb_target_ids, target_type)\n",
    "!python boltzdesign.py \\\n",
    "  --target_name 9hag \\\n",
    "  --target_type protein \\\n",
    "  --pdb_target_ids A \\\n",
    "  --gpu_id 0 \\\n",
    "  --design_samples 1 \\\n",
    "  --suffix '1' \\"
   ]
  },
  {
   "cell_type": "code",
   "execution_count": 2,
   "metadata": {},
   "outputs": [],
   "source": [
    "## Example 3 : DNA/RNA PDB (specify the target_name, pdb_target_ids, target_type)\n",
    "!python boltzdesign.py \\\n",
    "  --target_name 5zmc \\\n",
    "  --target_type dna \\\n",
    "  --pdb_target_ids C,D \\\n",
    "  --gpu_id 0 \\\n",
    "  --design_samples 2 \\\n",
    "  --suffix '1' \\\n",
    "  --inter_chain_cutoff 10 \\\n",
    "  --af3_docker_name 'alphafold3_yc'"
   ]
  },
  {
   "cell_type": "code",
   "execution_count": null,
   "metadata": {},
   "outputs": [],
   "source": [
    "## Example 4: Customized DNA/RNA\n",
    "!python boltzdesign.py \\\n",
    "--target_name \"DNA\" \\\n",
    "--gpu_id 0 \\\n",
    "--input_type \"custom\" \\\n",
    "--custom_target_input \"ACAC,GCGC\" \\\n",
    "--target_type dna \\\n",
    "--design_samples 2 \\\n",
    "--suffix '1' \\\n",
    "    "
   ]
  },
  {
   "cell_type": "code",
   "execution_count": null,
   "metadata": {},
   "outputs": [],
   "source": [
    "## Example 5 : small molecule PDB\n",
    "!python boltzdesign.py \\\n",
    "  --target_name 7v11 \\\n",
    "  --target_type small_molecule \\\n",
    "  --target_mols OQO \\\n",
    "  --gpu_id 0 \\\n",
    "  --design_samples 1 \\\n",
    "  --suffix '1' \\\n",
    "  --save_trajectory True\n"
   ]
  },
  {
   "cell_type": "code",
   "execution_count": null,
   "metadata": {},
   "outputs": [],
   "source": [
    "## Example 6: Customized small molecule (Specify the small molecule name in target_mols)\n",
    "!python boltzdesign.py \\\n",
    "--target_name \"SAM\" \\\n",
    "--gpu_id 0 \\\n",
    "--input_type \"custom\" \\\n",
    "--custom_target_input '[O-]C(=O)C(N)CC[S+](C)CC3OC(n2cnc1c(ncnc12)N)C(O)C3O'\\\n",
    "--target_type small_molecule \\\n",
    "--design_samples 2 \\\n",
    "--suffix '1'"
   ]
  },
  {
   "cell_type": "code",
   "execution_count": 11,
   "metadata": {},
   "outputs": [],
   "source": [
    "## Example 7: Metal (Specify the metal name in custom_target_input)\n",
    "!python boltzdesign.py \\\n",
    "--target_name \"ZINC\" \\\n",
    "--gpu_id 0 \\\n",
    "--input_type \"custom\" \\\n",
    "--custom_target_input \"ZN\" \\\n",
    "--target_type metal \\\n",
    "--design_samples 2 \\\n",
    "--suffix '1'"
   ]
  },
  {
   "cell_type": "code",
   "execution_count": null,
   "metadata": {},
   "outputs": [],
   "source": [
    "## Example 8: PTM in Protein (specify the target_name, pdb_target_ids, target_type, use_msa)\n",
    "## if there is constraints, need to specify the chain\n",
    "## for pdb input, need to specify the pdb_target_ids and constraint_target\n",
    "## for custom input, need to specify the custom_target_ids and constraint_target\n",
    "!python boltzdesign.py \\\n",
    "--gpu_id 0 \\\n",
    "--target_name 5fn7 \\\n",
    "--target_type protein \\\n",
    "--pdb_target_ids A \\\n",
    "--use_msa True \\\n",
    "--msa_max_seqs 4096 \\\n",
    "--constraint_target A \\\n",
    "--contact_residues \"100,101\" \\\n",
    "--modification_target A \\\n",
    "--modifications \"SEP,SEP\" \\\n",
    "--modifications_wt \"S,S\" \\\n",
    "--modifications_positions \"100,101\" \\\n",
    "--suffix '1'"
   ]
  },
  {
   "cell_type": "code",
   "execution_count": null,
   "metadata": {},
   "outputs": [],
   "source": [
    "## Example 9: Customized protein with PTM (specify the target_name, custom_target_input, custom_target_ids, target_type)\n",
    "!python boltzdesign.py \\\n",
    "--target_name \"random_multimers\" \\\n",
    "--gpu_id 0 \\\n",
    "--input_type \"custom\" \\\n",
    "--custom_target_input 'AAAAAAA,KKKKKKK' \\\n",
    "--custom_target_ids \"A,B\" \\\n",
    "--target_type protein \\\n",
    "--design_samples 2 \\\n",
    "--constraint_target A \\\n",
    "--contact_residues \"2,3\" \\\n",
    "--modification_target A \\\n",
    "--modifications \"SEP,SEP\" \\\n",
    "--modifications_wt \"S,S\" \\\n",
    "--modifications_positions \"2,3\" \\\n",
    "--suffix '1'"
   ]
  },
  {
   "cell_type": "code",
   "execution_count": null,
   "metadata": {},
   "outputs": [],
   "source": [
    "## Example 10: Customized DNA/RNA (specify the target_name, custom_target_input, custom_target_ids, target_type)\n",
    "!python boltzdesign.py \\\n",
    "--target_name \"random_dna\" \\\n",
    "--gpu_id 0 \\\n",
    "--input_type \"custom\" \\\n",
    "--custom_target_input 'ATAT,GCGC' \\\n",
    "--custom_target_ids \"A,B\" \\\n",
    "--target_type dna \\\n",
    "--design_samples 2 \\\n",
    "--constraint_target A \\\n",
    "--contact_residues \"2,3\" \\\n",
    "--suffix '1'"
   ]
  },
  {
   "cell_type": "code",
   "execution_count": null,
   "metadata": {},
   "outputs": [],
   "source": [
    "## Example 11: Customized DNA/RNA (specify the target_name, custom_target_input, custom_target_ids, target_type)\n",
    "!python boltzdesign.py \\\n",
    "--target_name \"random_dna\" \\\n",
    "--gpu_id 0 \\\n",
    "--input_type \"custom\" \\\n",
    "--custom_target_input 'ATAT,GCGC' \\\n",
    "--custom_target_ids \"A,B\" \\\n",
    "--target_type dna \\\n",
    "--design_samples 2 \\\n",
    "--constraint_target A \\\n",
    "--contact_residues \"2,3\" \\\n",
    "--suffix '1'"
   ]
  },
  {
   "cell_type": "markdown",
   "metadata": {},
   "source": [
    "## 2. Customize Optimizing Function Variables ⚙️"
   ]
  },
  {
   "cell_type": "code",
   "execution_count": null,
   "metadata": {},
   "outputs": [],
   "source": [
    "## Example 1: use both pairformer and diffusion model\n",
    "!python boltzdesign.py \\\n",
    "  --target_name 5dxw \\\n",
    "  --target_type protein \\\n",
    "  --pdb_target_ids A \\\n",
    "  --use_msa True \\\n",
    "  --msa_max_seqs 4096 \\\n",
    "  --design_samples 1 \\\n",
    "  --suffix '1' \\\n",
    "  --diffusion_only False"
   ]
  },
  {
   "cell_type": "code",
   "execution_count": null,
   "metadata": {},
   "outputs": [],
   "source": [
    "## Example 2: length range of the binder\n",
    "!python boltzdesign.py \\\n",
    "  --target_name 5dxw \\\n",
    "  --target_type protein \\\n",
    "  --pdb_target_ids A \\\n",
    "  --use_msa True \\\n",
    "  --msa_max_seqs 4096 \\\n",
    "  --design_samples 1 \\\n",
    "  --suffix '1' \\\n",
    "  --length_min 150 \\\n",
    "  --length_max 200"
   ]
  },
  {
   "cell_type": "code",
   "execution_count": null,
   "metadata": {},
   "outputs": [],
   "source": [
    "## Example 3: increase number of inter-chain contacts if the binder does not form compacted  with the target\n",
    "!python boltzdesign.py \\\n",
    "  --target_name 5dxw \\\n",
    "  --target_type protein \\\n",
    "  --pdb_target_ids A \\\n",
    "  --use_msa True \\\n",
    "  --msa_max_seqs 4096 \\\n",
    "  --design_samples 1 \\\n",
    "  --suffix '1' \\\n",
    "  --num_intra_contacts 8"
   ]
  },
  {
   "cell_type": "code",
   "execution_count": null,
   "metadata": {},
   "outputs": [],
   "source": [
    "## Example 4: increase number of intra-chain contacts if the binder does not form good inter chain interaction with target\n",
    "!python boltzdesign.py \\\n",
    "  --target_name 5dxw \\\n",
    "  --target_type protein \\\n",
    "  --pdb_target_ids A \\\n",
    "  --use_msa True \\\n",
    "  --msa_max_seqs 4096 \\\n",
    "  --design_samples 1 \\\n",
    "  --suffix '1' \\\n",
    "  --num_inter_contacts 4"
   ]
  },
  {
   "cell_type": "code",
   "execution_count": null,
   "metadata": {},
   "outputs": [],
   "source": [
    "## Example 5: additional softmax optimiation \n",
    "!python boltzdesign.py \\\n",
    "  --target_name 5dxw \\\n",
    "  --target_type protein \\\n",
    "  --pdb_target_ids A \\\n",
    "  --use_msa True \\\n",
    "  --msa_max_seqs 4096 \\\n",
    "  --design_samples 1 \\\n",
    "  --suffix '1' \\\n",
    "  --design_algorithm 3stages_extra "
   ]
  },
  {
   "cell_type": "code",
   "execution_count": null,
   "metadata": {},
   "outputs": [],
   "source": [
    "## Example 6:  (optional)lowering learning rate for pre-iteration (warm up)\n",
    "!python boltzdesign.py \\\n",
    "  --target_name 5dxw \\\n",
    "  --target_type protein \\\n",
    "  --pdb_target_ids A \\\n",
    "  --use_msa True \\\n",
    "  --msa_max_seqs 4096 \\\n",
    "  --design_samples 1 \\\n",
    "  --suffix '1' \\\n",
    "  --learning_rate_pre 0.3"
   ]
  },
  {
   "cell_type": "code",
   "execution_count": null,
   "metadata": {},
   "outputs": [],
   "source": [
    "## Example 7: (optional) logits to sotmax iteration T= 0 to 0.9\n",
    "!python boltzdesign.py \\\n",
    "  --target_name 5dxw \\\n",
    "  --target_type protein \\\n",
    "  --pdb_target_ids A \\\n",
    "  --use_msa True \\\n",
    "  --msa_max_seqs 4096 \\\n",
    "  --design_samples 1 \\\n",
    "  --suffix '1' \\\n",
    "  --e_soft 0.9"
   ]
  },
  {
   "cell_type": "code",
   "execution_count": null,
   "metadata": {},
   "outputs": [],
   "source": [
    "## Example 8: (optional) increasing helix penalty if the process keep generating helix\n",
    "## helix_loss_min: upper limit for helix penalty\n",
    "## helix_loss_max: lower limit for helix penalty\n",
    "## caution: more negative value for helix_loss_min and helix_loss_max will generate less helix\n",
    "!python boltzdesign.py \\\n",
    "  --target_name 5dxw \\\n",
    "  --target_type protein \\\n",
    "  --pdb_target_ids A \\\n",
    "  --use_msa True \\\n",
    "  --gpu_id 0 \\\n",
    "  --msa_max_seqs 4096 \\\n",
    "  --design_samples 1 \\\n",
    "  --suffix '1' \\\n",
    "  --helix_loss_min -0.6 \\\n",
    "  --helix_loss_max -0.3"
   ]
  },
  {
   "cell_type": "code",
   "execution_count": null,
   "metadata": {},
   "outputs": [],
   "source": [
    "## Example 9: visualize the trajectory\n",
    "!python boltzdesign.py \\\n",
    "  --target_name 5dxw \\\n",
    "  --target_type protein \\\n",
    "  --pdb_target_ids A \\\n",
    "  --use_msa True \\\n",
    "  --gpu_id 0 \\\n",
    "  --msa_max_seqs 4096 \\\n",
    "  --design_samples 1 \\\n",
    "  --suffix '1' \\\n",
    "  --save_trajectory True"
   ]
  }
 ],
 "metadata": {
  "kernelspec": {
   "display_name": "boltz_test",
   "language": "python",
   "name": "python3"
  },
  "language_info": {
   "codemirror_mode": {
    "name": "ipython",
    "version": 3
   },
   "file_extension": ".py",
   "mimetype": "text/x-python",
   "name": "python",
   "nbconvert_exporter": "python",
   "pygments_lexer": "ipython3",
   "version": "3.10.17"
  }
 },
 "nbformat": 4,
 "nbformat_minor": 2
}
